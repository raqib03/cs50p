{
 "cells": [
  {
   "cell_type": "code",
   "execution_count": 3,
   "metadata": {},
   "outputs": [
    {
     "name": "stdout",
     "output_type": "stream",
     "text": [
      "Slytherin\n"
     ]
    }
   ],
   "source": [
    "name = input(\"What's your name? \")\n",
    "\n",
    "if name == \"Harry\":\n",
    "    print(\"Gryffindor\")\n",
    "elif name == \"Hermione\":\n",
    "    print(\"Gryffindor\")\n",
    "elif name == \"Ron\":\n",
    "    print(\"Gryffindor\")\n",
    "elif name == \"Draco\":\n",
    "    print(\"Slytherin\")\n",
    "else:\n",
    "    print(\"Who?\")"
   ]
  },
  {
   "cell_type": "code",
   "execution_count": 8,
   "metadata": {},
   "outputs": [
    {
     "name": "stdout",
     "output_type": "stream",
     "text": [
      "Slytherin\n"
     ]
    }
   ],
   "source": [
    "name = input(\"What's your name? \")\n",
    "\n",
    "if name == \"Harry\" or name == \"Hermione\" or name == \"Ron\":\n",
    "    print(\"Gryffindor\")\n",
    "elif name == \"Draco\":\n",
    "    print(\"Slytherin\")\n",
    "else:\n",
    "    print(\"Who?\")"
   ]
  },
  {
   "cell_type": "code",
   "execution_count": 14,
   "metadata": {},
   "outputs": [
    {
     "name": "stdout",
     "output_type": "stream",
     "text": [
      "Who?\n"
     ]
    }
   ],
   "source": [
    "name = input(\"What's you name? \")\n",
    "\n",
    "match name:\n",
    "    case \"Harry\" | \"Hermione\" | \"Ron\":\n",
    "        print(\"Gryffindor\")\n",
    "    case \"Draco\":\n",
    "        print(\"Slytherin\")\n",
    "    case _:\n",
    "        print(\"Who?\")"
   ]
  }
 ],
 "metadata": {
  "kernelspec": {
   "display_name": "kernel-cs50p",
   "language": "python",
   "name": "kernel-cs50p"
  },
  "language_info": {
   "codemirror_mode": {
    "name": "ipython",
    "version": 3
   },
   "file_extension": ".py",
   "mimetype": "text/x-python",
   "name": "python",
   "nbconvert_exporter": "python",
   "pygments_lexer": "ipython3",
   "version": "3.11.4"
  }
 },
 "nbformat": 4,
 "nbformat_minor": 2
}
