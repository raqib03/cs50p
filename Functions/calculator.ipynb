{
 "cells": [
  {
   "cell_type": "code",
   "execution_count": 2,
   "metadata": {},
   "outputs": [
    {
     "name": "stdout",
     "output_type": "stream",
     "text": [
      "x squared is 9\n"
     ]
    }
   ],
   "source": [
    "# using return value\n",
    "# input => 3\n",
    "def main():\n",
    "    x = int(input(\"What's x? \"))\n",
    "    print(\"x squared is\", square(x))\n",
    "\n",
    "def square(n):\n",
    "    return n * n\n",
    "\n",
    "main()"
   ]
  },
  {
   "cell_type": "code",
   "execution_count": 3,
   "metadata": {},
   "outputs": [
    {
     "name": "stdout",
     "output_type": "stream",
     "text": [
      "x squared is 9\n"
     ]
    }
   ],
   "source": [
    "# input => 3\n",
    "def main():\n",
    "    x = int(input(\"What's x? \"))\n",
    "    print(\"x squared is\", square(x))\n",
    "\n",
    "def square(n):\n",
    "    return n ** 2\n",
    "\n",
    "main()"
   ]
  },
  {
   "cell_type": "code",
   "execution_count": 4,
   "metadata": {},
   "outputs": [
    {
     "name": "stdout",
     "output_type": "stream",
     "text": [
      "x squared is 9\n"
     ]
    }
   ],
   "source": [
    "# input => 3\n",
    "def main():\n",
    "    x = int(input(\"What's x? \"))\n",
    "    print(\"x squared is\", square(x))\n",
    "\n",
    "def square(n):\n",
    "    return pow(n, 2)\n",
    "\n",
    "main()"
   ]
  }
 ],
 "metadata": {
  "kernelspec": {
   "display_name": "kernel-cs50p",
   "language": "python",
   "name": "kernel-cs50p"
  },
  "language_info": {
   "codemirror_mode": {
    "name": "ipython",
    "version": 3
   },
   "file_extension": ".py",
   "mimetype": "text/x-python",
   "name": "python",
   "nbconvert_exporter": "python",
   "pygments_lexer": "ipython3",
   "version": "3.11.4"
  }
 },
 "nbformat": 4,
 "nbformat_minor": 2
}
