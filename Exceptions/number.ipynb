{
 "cells": [
  {
   "cell_type": "code",
   "execution_count": 1,
   "metadata": {},
   "outputs": [
    {
     "ename": "ValueError",
     "evalue": "invalid literal for int() with base 10: 'cat'",
     "output_type": "error",
     "traceback": [
      "\u001b[1;31m---------------------------------------------------------------------------\u001b[0m",
      "\u001b[1;31mValueError\u001b[0m                                Traceback (most recent call last)",
      "Cell \u001b[1;32mIn[1], line 1\u001b[0m\n\u001b[1;32m----> 1\u001b[0m x \u001b[38;5;241m=\u001b[39m \u001b[38;5;28;43mint\u001b[39;49m\u001b[43m(\u001b[49m\u001b[38;5;28;43minput\u001b[39;49m\u001b[43m(\u001b[49m\u001b[38;5;124;43m\"\u001b[39;49m\u001b[38;5;124;43mWhat\u001b[39;49m\u001b[38;5;124;43m'\u001b[39;49m\u001b[38;5;124;43ms x? \u001b[39;49m\u001b[38;5;124;43m\"\u001b[39;49m\u001b[43m)\u001b[49m\u001b[43m)\u001b[49m\n\u001b[0;32m      2\u001b[0m \u001b[38;5;28mprint\u001b[39m(\u001b[38;5;124mf\u001b[39m\u001b[38;5;124m\"\u001b[39m\u001b[38;5;124mx is \u001b[39m\u001b[38;5;132;01m{\u001b[39;00mx\u001b[38;5;132;01m}\u001b[39;00m\u001b[38;5;124m\"\u001b[39m)\n",
      "\u001b[1;31mValueError\u001b[0m: invalid literal for int() with base 10: 'cat'"
     ]
    }
   ],
   "source": [
    "x = int(input(\"What's x? \"))\n",
    "print(f\"x is {x}\")"
   ]
  },
  {
   "cell_type": "code",
   "execution_count": 7,
   "metadata": {},
   "outputs": [
    {
     "name": "stdout",
     "output_type": "stream",
     "text": [
      "x is not an integer\n"
     ]
    }
   ],
   "source": [
    "try:\n",
    "    x = int(input(\"What's x? \"))\n",
    "    print(f\"x is {x}\")\n",
    "\n",
    "except ValueError:\n",
    "    print(\"x is not an integer\")"
   ]
  },
  {
   "cell_type": "code",
   "execution_count": 1,
   "metadata": {},
   "outputs": [
    {
     "name": "stdout",
     "output_type": "stream",
     "text": [
      "x is not an integer\n"
     ]
    },
    {
     "ename": "NameError",
     "evalue": "name 'x' is not defined",
     "output_type": "error",
     "traceback": [
      "\u001b[1;31m---------------------------------------------------------------------------\u001b[0m",
      "\u001b[1;31mNameError\u001b[0m                                 Traceback (most recent call last)",
      "Cell \u001b[1;32mIn[1], line 7\u001b[0m\n\u001b[0;32m      4\u001b[0m \u001b[38;5;28;01mexcept\u001b[39;00m \u001b[38;5;167;01mValueError\u001b[39;00m:\n\u001b[0;32m      5\u001b[0m     \u001b[38;5;28mprint\u001b[39m(\u001b[38;5;124m\"\u001b[39m\u001b[38;5;124mx is not an integer\u001b[39m\u001b[38;5;124m\"\u001b[39m)\n\u001b[1;32m----> 7\u001b[0m \u001b[38;5;28mprint\u001b[39m(\u001b[38;5;124mf\u001b[39m\u001b[38;5;124m\"\u001b[39m\u001b[38;5;124mx is \u001b[39m\u001b[38;5;132;01m{\u001b[39;00m\u001b[43mx\u001b[49m\u001b[38;5;132;01m}\u001b[39;00m\u001b[38;5;124m\"\u001b[39m)\n",
      "\u001b[1;31mNameError\u001b[0m: name 'x' is not defined"
     ]
    }
   ],
   "source": [
    "try:\n",
    "    x = int(input(\"What's x? \"))\n",
    "\n",
    "except ValueError:\n",
    "    print(\"x is not an integer\")\n",
    "    \n",
    "print(f\"x is {x}\")"
   ]
  },
  {
   "cell_type": "code",
   "execution_count": 2,
   "metadata": {},
   "outputs": [
    {
     "name": "stdout",
     "output_type": "stream",
     "text": [
      "x is not an integer\n"
     ]
    }
   ],
   "source": [
    "try:\n",
    "    x = int(input(\"What's x? \"))\n",
    "\n",
    "except ValueError:\n",
    "    print(\"x is not an integer\")\n",
    "    \n",
    "else:\n",
    "    print(f\"x is {x}\")"
   ]
  },
  {
   "cell_type": "code",
   "execution_count": 3,
   "metadata": {},
   "outputs": [
    {
     "name": "stdout",
     "output_type": "stream",
     "text": [
      "x is not an integer\n",
      "x is not an integer\n",
      "x is not an integer\n",
      "x is not an integer\n",
      "x is 50\n"
     ]
    }
   ],
   "source": [
    "while True:\n",
    "    try:\n",
    "        x = int(input(\"What's x? \"))\n",
    "    except ValueError:\n",
    "        print(\"x is not an integer\")\n",
    "    else:\n",
    "        break\n",
    "\n",
    "print(f\"x is {x}\")"
   ]
  },
  {
   "cell_type": "code",
   "execution_count": 4,
   "metadata": {},
   "outputs": [
    {
     "name": "stdout",
     "output_type": "stream",
     "text": [
      "x is not an integer\n",
      "x is not an integer\n",
      "x is not an integer\n",
      "x is 50\n"
     ]
    }
   ],
   "source": [
    "while True:\n",
    "    try:\n",
    "        x = int(input(\"What's x? \"))\n",
    "        break\n",
    "    except ValueError:\n",
    "        print(\"x is not an integer\")\n",
    "\n",
    "print(f\"x is {x}\")"
   ]
  },
  {
   "cell_type": "code",
   "execution_count": 5,
   "metadata": {},
   "outputs": [
    {
     "name": "stdout",
     "output_type": "stream",
     "text": [
      "x is not an integer\n",
      "x is not an integer\n",
      "x is not an integer\n",
      "x is not an integer\n",
      "x is 50\n"
     ]
    }
   ],
   "source": [
    "def main():\n",
    "    x = get_int()\n",
    "    print(f\"x is {x}\")\n",
    "\n",
    "\n",
    "def get_int():\n",
    "    while True:\n",
    "        try:\n",
    "            x = int(input(\"What's x? \"))\n",
    "        except ValueError:\n",
    "            print(\"x is not an integer\")\n",
    "        else:\n",
    "            break\n",
    "    return x\n",
    "\n",
    "\n",
    "main()"
   ]
  },
  {
   "cell_type": "code",
   "execution_count": 6,
   "metadata": {},
   "outputs": [
    {
     "name": "stdout",
     "output_type": "stream",
     "text": [
      "x is not an integer\n",
      "x is 30\n"
     ]
    }
   ],
   "source": [
    "def main():\n",
    "    x = get_int()\n",
    "    print(f\"x is {x}\")\n",
    "\n",
    "\n",
    "def get_int():\n",
    "    while True:\n",
    "        try:\n",
    "            x = int(input(\"What's x? \"))\n",
    "        except ValueError:\n",
    "            print(\"x is not an integer\")\n",
    "        else:\n",
    "            return x\n",
    "\n",
    "\n",
    "main()"
   ]
  },
  {
   "cell_type": "code",
   "execution_count": 7,
   "metadata": {},
   "outputs": [
    {
     "name": "stdout",
     "output_type": "stream",
     "text": [
      "x is not an integer\n",
      "x is 50\n"
     ]
    }
   ],
   "source": [
    "def main():\n",
    "    x = get_int()\n",
    "    print(f\"x is {x}\")\n",
    "\n",
    "\n",
    "def get_int():\n",
    "    while True:\n",
    "        try:\n",
    "            x = int(input(\"What's x? \"))\n",
    "            return x\n",
    "        except ValueError:\n",
    "            print(\"x is not an integer\")\n",
    "\n",
    "\n",
    "main()"
   ]
  },
  {
   "cell_type": "code",
   "execution_count": 9,
   "metadata": {},
   "outputs": [
    {
     "name": "stdout",
     "output_type": "stream",
     "text": [
      "x is not an integer\n",
      "x is 50\n"
     ]
    }
   ],
   "source": [
    "def main():\n",
    "    x = get_int()\n",
    "    print(f\"x is {x}\")\n",
    "\n",
    "\n",
    "def get_int():\n",
    "    while True:\n",
    "        try:\n",
    "            return int(input(\"What's x? \"))\n",
    "        except ValueError:\n",
    "            print(\"x is not an integer\")\n",
    "\n",
    "\n",
    "main()"
   ]
  },
  {
   "cell_type": "code",
   "execution_count": 11,
   "metadata": {},
   "outputs": [
    {
     "name": "stdout",
     "output_type": "stream",
     "text": [
      "x is 50\n"
     ]
    }
   ],
   "source": [
    "def main():\n",
    "    x = get_int()\n",
    "    print(f\"x is {x}\")\n",
    "\n",
    "\n",
    "def get_int():\n",
    "    while True:\n",
    "        try:\n",
    "            return int(input(\"What's x? \"))\n",
    "        except ValueError:\n",
    "            pass\n",
    "\n",
    "\n",
    "main()"
   ]
  },
  {
   "cell_type": "code",
   "execution_count": 12,
   "metadata": {},
   "outputs": [
    {
     "name": "stdout",
     "output_type": "stream",
     "text": [
      "x is 50\n"
     ]
    }
   ],
   "source": [
    "def main():\n",
    "    x = get_int(\"What's x? \")\n",
    "    print(f\"x is {x}\")\n",
    "\n",
    "\n",
    "def get_int(prompt):\n",
    "    while True:\n",
    "        try:\n",
    "            return int(input(prompt))\n",
    "        except ValueError:\n",
    "            pass\n",
    "\n",
    "\n",
    "main()"
   ]
  }
 ],
 "metadata": {
  "kernelspec": {
   "display_name": "kernel-cs50p",
   "language": "python",
   "name": "kernel-cs50p"
  },
  "language_info": {
   "codemirror_mode": {
    "name": "ipython",
    "version": 3
   },
   "file_extension": ".py",
   "mimetype": "text/x-python",
   "name": "python",
   "nbconvert_exporter": "python",
   "pygments_lexer": "ipython3",
   "version": "3.11.4"
  }
 },
 "nbformat": 4,
 "nbformat_minor": 2
}
