{
 "cells": [
  {
   "cell_type": "code",
   "execution_count": 1,
   "metadata": {},
   "outputs": [
    {
     "name": "stdout",
     "output_type": "stream",
     "text": [
      "\n",
      "#\n",
      "##\n"
     ]
    }
   ],
   "source": [
    "def main():\n",
    "    height = int(input(\"Height: \"))\n",
    "    pyramid(height)\n",
    "\n",
    "\n",
    "def pyramid(n):\n",
    "    for i in range(n):\n",
    "        print(\"#\" * i)\n",
    "\n",
    "\n",
    "if __name__ == \"__main__\":\n",
    "    main()"
   ]
  },
  {
   "cell_type": "code",
   "execution_count": 2,
   "metadata": {},
   "outputs": [
    {
     "name": "stdout",
     "output_type": "stream",
     "text": [
      "0 \n",
      "1 #\n",
      "2 ##\n"
     ]
    }
   ],
   "source": [
    "def main():\n",
    "    height = int(input(\"Height: \"))\n",
    "    pyramid(height)\n",
    "\n",
    "\n",
    "def pyramid(n):\n",
    "    for i in range(n):\n",
    "        print(i, end=\" \")\n",
    "        print(\"#\" * i)\n",
    "\n",
    "\n",
    "if __name__ == \"__main__\":\n",
    "    main()"
   ]
  },
  {
   "cell_type": "code",
   "execution_count": 2,
   "metadata": {},
   "outputs": [
    {
     "name": "stdout",
     "output_type": "stream",
     "text": [
      "#\n",
      "##\n",
      "###\n"
     ]
    }
   ],
   "source": [
    "def main():\n",
    "    height = int(input(\"Height: \"))\n",
    "    pyramid(height)\n",
    "\n",
    "\n",
    "def pyramid(n):\n",
    "    for i in range(n):\n",
    "        print(\"#\" * (i + 1))\n",
    "\n",
    "\n",
    "if __name__ == \"__main__\":\n",
    "    main()"
   ]
  },
  {
   "cell_type": "code",
   "execution_count": null,
   "metadata": {},
   "outputs": [
    {
     "name": "stdout",
     "output_type": "stream",
     "text": [
      "#\n",
      "##\n",
      "###\n"
     ]
    }
   ],
   "source": [
    "def main():\n",
    "    height = int(input(\"Height: \"))\n",
    "    pyramid(height)\n",
    "\n",
    "\n",
    "def pyramid(n):\n",
    "    for i in range(n):\n",
    "        print(\"#\" * i)\n",
    "\n",
    "\n",
    "if __name__ == \"__main__\":\n",
    "    main()"
   ]
  }
 ],
 "metadata": {
  "kernelspec": {
   "display_name": "kernel-cs50p",
   "language": "python",
   "name": "kernel-cs50p"
  },
  "language_info": {
   "codemirror_mode": {
    "name": "ipython",
    "version": 3
   },
   "file_extension": ".py",
   "mimetype": "text/x-python",
   "name": "python",
   "nbconvert_exporter": "python",
   "pygments_lexer": "ipython3",
   "version": "3.11.4"
  }
 },
 "nbformat": 4,
 "nbformat_minor": 2
}
