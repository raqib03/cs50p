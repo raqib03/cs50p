{
 "cells": [
  {
   "cell_type": "code",
   "execution_count": 1,
   "metadata": {},
   "outputs": [
    {
     "name": "stdout",
     "output_type": "stream",
     "text": [
      "3 squared was not 9\n"
     ]
    }
   ],
   "source": [
    "from calculator import square\n",
    "\n",
    "\n",
    "def main():\n",
    "    test_square()\n",
    "\n",
    "\n",
    "def test_square():\n",
    "    if square(2) != 4:\n",
    "        print(\"2 squared was not 4\")\n",
    "    if square(3) != 9:\n",
    "        print(\"3 squared was not 9\")\n",
    "\n",
    "\n",
    "if __name__ == \"__main__\":\n",
    "    main()"
   ]
  },
  {
   "cell_type": "code",
   "execution_count": 2,
   "metadata": {},
   "outputs": [
    {
     "ename": "AssertionError",
     "evalue": "",
     "output_type": "error",
     "traceback": [
      "\u001b[1;31m---------------------------------------------------------------------------\u001b[0m",
      "\u001b[1;31mAssertionError\u001b[0m                            Traceback (most recent call last)",
      "Cell \u001b[1;32mIn[2], line 14\u001b[0m\n\u001b[0;32m     10\u001b[0m     \u001b[38;5;28;01massert\u001b[39;00m square(\u001b[38;5;241m3\u001b[39m) \u001b[38;5;241m==\u001b[39m \u001b[38;5;241m9\u001b[39m\n\u001b[0;32m     13\u001b[0m \u001b[38;5;28;01mif\u001b[39;00m \u001b[38;5;18m__name__\u001b[39m \u001b[38;5;241m==\u001b[39m \u001b[38;5;124m\"\u001b[39m\u001b[38;5;124m__main__\u001b[39m\u001b[38;5;124m\"\u001b[39m:\n\u001b[1;32m---> 14\u001b[0m     \u001b[43mmain\u001b[49m\u001b[43m(\u001b[49m\u001b[43m)\u001b[49m\n",
      "Cell \u001b[1;32mIn[2], line 5\u001b[0m, in \u001b[0;36mmain\u001b[1;34m()\u001b[0m\n\u001b[0;32m      4\u001b[0m \u001b[38;5;28;01mdef\u001b[39;00m \u001b[38;5;21mmain\u001b[39m():\n\u001b[1;32m----> 5\u001b[0m     \u001b[43mtest_square\u001b[49m\u001b[43m(\u001b[49m\u001b[43m)\u001b[49m\n",
      "Cell \u001b[1;32mIn[2], line 10\u001b[0m, in \u001b[0;36mtest_square\u001b[1;34m()\u001b[0m\n\u001b[0;32m      8\u001b[0m \u001b[38;5;28;01mdef\u001b[39;00m \u001b[38;5;21mtest_square\u001b[39m():\n\u001b[0;32m      9\u001b[0m     \u001b[38;5;28;01massert\u001b[39;00m square(\u001b[38;5;241m2\u001b[39m) \u001b[38;5;241m==\u001b[39m \u001b[38;5;241m4\u001b[39m\n\u001b[1;32m---> 10\u001b[0m     \u001b[38;5;28;01massert\u001b[39;00m square(\u001b[38;5;241m3\u001b[39m) \u001b[38;5;241m==\u001b[39m \u001b[38;5;241m9\u001b[39m\n",
      "\u001b[1;31mAssertionError\u001b[0m: "
     ]
    }
   ],
   "source": [
    "from calculator import square\n",
    "\n",
    "\n",
    "def main():\n",
    "    test_square()\n",
    "\n",
    "\n",
    "def test_square():\n",
    "    assert square(2) == 4\n",
    "    assert square(3) == 9\n",
    "\n",
    "\n",
    "if __name__ == \"__main__\":\n",
    "    main()"
   ]
  },
  {
   "cell_type": "code",
   "execution_count": 4,
   "metadata": {},
   "outputs": [
    {
     "name": "stdout",
     "output_type": "stream",
     "text": [
      "3 squared was not 9\n",
      "-2 squared was not 4\n",
      "-3 squared was not 9\n"
     ]
    }
   ],
   "source": [
    "from calculator import square\n",
    "\n",
    "\n",
    "def main():\n",
    "    test_square()\n",
    "\n",
    "\n",
    "def test_square():\n",
    "    try:\n",
    "        assert square(2) == 4\n",
    "    except AssertionError:\n",
    "        print(\"2 squared was not 4\")\n",
    "    try:\n",
    "        assert square(3) == 9\n",
    "    except AssertionError:\n",
    "        print(\"3 squared was not 9\")\n",
    "    try:\n",
    "        assert square(-2) == 4\n",
    "    except AssertionError:\n",
    "        print(\"-2 squared was not 4\")\n",
    "    try:\n",
    "        assert square(-3) == 9\n",
    "    except AssertionError:\n",
    "        print(\"-3 squared was not 9\")\n",
    "    try:\n",
    "        assert square(0) == 0\n",
    "    except AssertionError:\n",
    "        print(\"-0 squared was not 0\")\n",
    "\n",
    "\n",
    "if __name__ == \"__main__\":\n",
    "    main()"
   ]
  }
 ],
 "metadata": {
  "kernelspec": {
   "display_name": "kernel-cs50p",
   "language": "python",
   "name": "kernel-cs50p"
  },
  "language_info": {
   "codemirror_mode": {
    "name": "ipython",
    "version": 3
   },
   "file_extension": ".py",
   "mimetype": "text/x-python",
   "name": "python",
   "nbconvert_exporter": "python",
   "pygments_lexer": "ipython3",
   "version": "3.11.4"
  }
 },
 "nbformat": 4,
 "nbformat_minor": 2
}
